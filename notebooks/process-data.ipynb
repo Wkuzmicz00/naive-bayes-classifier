{
 "cells": [
  {
   "cell_type": "code",
   "execution_count": 59,
   "id": "377fbb62-05d5-4991-8abe-41967a905c3f",
   "metadata": {
    "scrolled": true
   },
   "outputs": [
    {
     "name": "stderr",
     "output_type": "stream",
     "text": [
      "[nltk_data] Downloading package punkt to /home/wojtek/nltk_data...\n",
      "[nltk_data]   Package punkt is already up-to-date!\n",
      "[nltk_data] Downloading package stopwords to /home/wojtek/nltk_data...\n",
      "[nltk_data]   Package stopwords is already up-to-date!\n"
     ]
    }
   ],
   "source": [
    "import pickle\n",
    "import re\n",
    "import nltk\n",
    "nltk.download('punkt')\n",
    "nltk.download('stopwords')\n",
    "\n",
    "import pandas as pd\n",
    "\n",
    "from sklearn.feature_extraction.text import CountVectorizer\n",
    "from sklearn.utils import shuffle\n",
    "\n",
    "data = pd.read_csv(\"../data/emails.csv\")\n",
    "data = shuffle(data)\n",
    "    "
   ]
  },
  {
   "cell_type": "code",
   "execution_count": 61,
   "id": "ede2ba99-ec54-4cfc-b5c7-a9cb6599c84f",
   "metadata": {},
   "outputs": [],
   "source": [
    "#removing noises\n",
    "data['tokens'] = data['text'].map(lambda text:  nltk.tokenize.word_tokenize(text)) \n",
    "\n",
    "stop_words = set(nltk.corpus.stopwords.words('english'))\n",
    "data['filltered_text'] = data['tokens'].map(lambda tokens: [word for word in tokens if word not in stop_words]) \n",
    "\n",
    "data['filltered_text'] = data['filltered_text'].map(lambda text: text[2:])\n",
    "\n",
    "data['filltered_text'] = data['filltered_text'].map(lambda text: ' '.join(text))\n",
    "data['filltered_text'] = data['filltered_text'].map(lambda text: re.sub('[^A-Za-z0-9]+', ' ', text))\n",
    "\n",
    "cv = CountVectorizer()\n",
    "\n",
    "#X, y = data['text'], data['spam']\n",
    "X, y = data['filltered_text'], data['spam']\n",
    "\n",
    "X_matrix = cv.fit_transform(X)\n",
    "\n",
    "\n",
    "with open('X.pkl', 'wb') as file:\n",
    "    pickle.dump(X_matrix, file)\n",
    "\n",
    "with open('Y.pkl', 'wb') as file:\n",
    "    pickle.dump(y, file)"
   ]
  },
  {
   "cell_type": "code",
   "execution_count": 55,
   "id": "bcec024a-3335-411b-a029-b6d9a3fb9870",
   "metadata": {},
   "outputs": [
    {
     "data": {
      "text/plain": [
       "'Subject: 4 color printing special  request additional information now ! click here  click here for a printable version of our order form ( pdf format )  phone : ( 626 ) 338 - 8090 fax : ( 626 ) 338 - 8102 e - mail : ramsey @ goldengraphix . com  request additional information now ! click here  click here for a printable version of our order form ( pdf format )  golden graphix & printing 5110 azusa canyon rd . irwindale , ca 91706 this e - mail message is an advertisement and / or solicitation . '"
      ]
     },
     "execution_count": 55,
     "metadata": {},
     "output_type": "execute_result"
    }
   ],
   "source": [
    "data['text'][3]"
   ]
  },
  {
   "cell_type": "code",
   "execution_count": 57,
   "id": "09492f20-8af4-46f1-a7f4-8982ca9f9611",
   "metadata": {},
   "outputs": [
    {
     "data": {
      "text/plain": [
       "'4 color printing special request additional information click click printable version order form pdf format phone 626 338 8090 fax 626 338 8102 e mail ramsey goldengraphix com request additional information click click printable version order form pdf format golden graphix printing 5110 azusa canyon rd irwindale ca 91706 e mail message advertisement solicitation '"
      ]
     },
     "execution_count": 57,
     "metadata": {},
     "output_type": "execute_result"
    }
   ],
   "source": [
    "data['filltered_text'][3]"
   ]
  },
  {
   "cell_type": "code",
   "execution_count": null,
   "id": "aa7b75a4-5190-4f65-9f18-7584eb99e534",
   "metadata": {},
   "outputs": [],
   "source": []
  }
 ],
 "metadata": {
  "kernelspec": {
   "display_name": "Python 3 (ipykernel)",
   "language": "python",
   "name": "python3"
  },
  "language_info": {
   "codemirror_mode": {
    "name": "ipython",
    "version": 3
   },
   "file_extension": ".py",
   "mimetype": "text/x-python",
   "name": "python",
   "nbconvert_exporter": "python",
   "pygments_lexer": "ipython3",
   "version": "3.12.3"
  }
 },
 "nbformat": 4,
 "nbformat_minor": 5
}
